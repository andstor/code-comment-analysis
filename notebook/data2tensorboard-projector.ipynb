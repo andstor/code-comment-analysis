{
 "cells": [
  {
   "cell_type": "code",
   "execution_count": 1,
   "metadata": {},
   "outputs": [],
   "source": [
    "%load_ext autoreload\n",
    "%autoreload 2"
   ]
  },
  {
   "cell_type": "code",
   "execution_count": 2,
   "metadata": {},
   "outputs": [],
   "source": [
    "import os\n",
    "import sys\n",
    "module_path = os.path.abspath(os.path.join('..'))\n",
    "if module_path not in sys.path:\n",
    "    sys.path.append(module_path)"
   ]
  },
  {
   "cell_type": "code",
   "execution_count": 3,
   "metadata": {},
   "outputs": [],
   "source": [
    "from src.data.data_loader import load_all_data\n",
    "\n",
    "df = load_all_data()"
   ]
  },
  {
   "cell_type": "code",
   "execution_count": 4,
   "metadata": {},
   "outputs": [
    {
     "data": {
      "text/plain": [
       "Index(['Unnamed: 0.1', 'Unnamed: 0', 'contract_name', 'file_path',\n",
       "       'contract_address', 'language', 'class_name', 'class_code',\n",
       "       'class_documentation', 'class_documentation_type', 'func_name',\n",
       "       'func_code', 'func_documentation', 'func_documentation_type',\n",
       "       'compiler_version', 'license_type', 'swarm_source', 'split',\n",
       "       'func_documentation_tokens', 'label', '__index_level_0__', 'input',\n",
       "       'output', 'generated', 'bleu_score', 'mode', 'truncated', 'duration',\n",
       "       'g_ave_reps', 'g_max_reps', 'o_ave_reps', 'o_max_reps'],\n",
       "      dtype='object')"
      ]
     },
     "execution_count": 4,
     "metadata": {},
     "output_type": "execute_result"
    }
   ],
   "source": [
    "df.columns"
   ]
  },
  {
   "cell_type": "code",
   "execution_count": 5,
   "metadata": {},
   "outputs": [
    {
     "data": {
      "text/plain": [
       "array(['/**\\\\r\\\\n * @dev Returns the division of two unsigned integers, with a division by zero flag.\\\\r\\\\n *\\\\r\\\\n * _Available since v3.4._\\\\r\\\\n */\\t2',\n",
       "       '/**\\\\n * @dev Returns the division of two unsigned integers, with a division by zero flag.\\\\n *\\\\n * _Available since v3.4._\\\\n */\\t1',\n",
       "       '/**\\\\r\\\\n * @dev Burns a specific amount of tokens.\\\\r\\\\n * @param value The amount of token to be burned.\\\\r\\\\n */\\t4',\n",
       "       ...,\n",
       "       '// ------------------------------------------------------------------------\\\\n// Total supply\\\\n// ------------------------------------------------------------------------\\t3',\n",
       "       \"// ------------------------------------------------------------------------\\\\n// Token owner can approve for spender to transferFrom(...) tokens\\\\n// from the token owner's account. The spender contract function\\\\n// receiveApproval(...) is then executed\\\\n// ------------------------------------------------------------------------\\t3\",\n",
       "       '//\\t4'], dtype=object)"
      ]
     },
     "execution_count": 5,
     "metadata": {},
     "output_type": "execute_result"
    }
   ],
   "source": [
    "import numpy as np\n",
    "import random\n",
    "\n",
    "vectors = np.stack(df[\"g_ave_reps\"])\n",
    "metadata = df[\"func_documentation\"].apply(lambda x: x.encode(\"unicode_escape\").decode(\"utf-8\") + \"\\t\" + random.choice([\"1\", \"2\", \"3\", \"4\", \"5\"])).values # labels\n",
    "metadata"
   ]
  },
  {
   "cell_type": "code",
   "execution_count": 6,
   "metadata": {},
   "outputs": [],
   "source": [
    "import numpy as np\n",
    "from torch.utils.tensorboard import SummaryWriter\n",
    "\n",
    "#vectors = np.array([[0,0,1], [0,1,0], [1,0,0], [1,1,1]])\n",
    "#metadata = ['001', '010', '100', '111']  # labels\n",
    "writer = SummaryWriter()\n",
    "writer.add_embedding(vectors, metadata)\n",
    "writer.close()"
   ]
  },
  {
   "cell_type": "markdown",
   "metadata": {},
   "source": [
    "# Run"
   ]
  },
  {
   "cell_type": "code",
   "execution_count": null,
   "metadata": {},
   "outputs": [],
   "source": [
    "#%reload_ext tensorboard\n",
    "%load_ext tensorboard\n",
    "%tensorboard --logdir=\"runs\"\n"
   ]
  },
  {
   "cell_type": "markdown",
   "metadata": {},
   "source": [
    "# Demo data"
   ]
  },
  {
   "cell_type": "code",
   "execution_count": null,
   "metadata": {},
   "outputs": [],
   "source": [
    "import keyword\n",
    "import torch\n",
    "from torch.utils.tensorboard import SummaryWriter\n",
    "\n",
    "writer = SummaryWriter()\n",
    "\n",
    "meta = []\n",
    "while len(meta)<100:\n",
    "    meta = meta+keyword.kwlist # get some strings\n",
    "meta = meta[:100]\n",
    "\n",
    "for i, v in enumerate(meta):\n",
    "    meta[i] = v+str(i)\n",
    "\n",
    "label_img = torch.rand(100, 3, 10, 32)\n",
    "for i in range(100):\n",
    "    label_img[i]*=i/100.0\n",
    "\n",
    "writer.add_embedding(torch.randn(100, 5), metadata=meta, label_img=label_img)\n",
    "writer.add_embedding(torch.randn(100, 5), label_img=label_img)\n",
    "writer.add_embedding(torch.randn(100, 5), metadata=meta)"
   ]
  }
 ],
 "metadata": {
  "kernelspec": {
   "display_name": ".venv",
   "language": "python",
   "name": "python3"
  },
  "language_info": {
   "codemirror_mode": {
    "name": "ipython",
    "version": 3
   },
   "file_extension": ".py",
   "mimetype": "text/x-python",
   "name": "python",
   "nbconvert_exporter": "python",
   "pygments_lexer": "ipython3",
   "version": "3.9.13"
  },
  "orig_nbformat": 4
 },
 "nbformat": 4,
 "nbformat_minor": 2
}
